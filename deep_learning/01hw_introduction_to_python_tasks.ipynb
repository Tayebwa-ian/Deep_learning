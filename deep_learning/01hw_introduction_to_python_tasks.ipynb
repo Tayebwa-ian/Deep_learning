{
 "cells": [
  {
   "cell_type": "markdown",
   "metadata": {},
   "source": [
    "# Exercise 0: Introduction to Python"
   ]
  },
  {
   "cell_type": "markdown",
   "metadata": {},
   "source": [
    "### Use Python as a calculator to compute 256²"
   ]
  },
  {
   "cell_type": "code",
   "execution_count": 1,
   "metadata": {},
   "outputs": [
    {
     "name": "stdout",
     "output_type": "stream",
     "text": [
      "65536\n"
     ]
    }
   ],
   "source": [
    "print(256**2)"
   ]
  },
  {
   "cell_type": "markdown",
   "metadata": {},
   "source": [
    "### Put the strings \"Hello\" and \"World!\" in two variables. Concatenate both Strings and print them"
   ]
  },
  {
   "cell_type": "code",
   "execution_count": 3,
   "metadata": {},
   "outputs": [
    {
     "name": "stdout",
     "output_type": "stream",
     "text": [
      "Hello World!\n"
     ]
    }
   ],
   "source": [
    "x, y = \"Hello \", \"World!\"\n",
    "print(x + y)"
   ]
  },
  {
   "cell_type": "markdown",
   "metadata": {},
   "source": [
    "### Create a list that contains the 4 strings \"alpha\", \"beta\", \"gamma\", and \"delta\". Add \"epsilon\" to the end of this list"
   ]
  },
  {
   "cell_type": "code",
   "execution_count": 5,
   "metadata": {},
   "outputs": [
    {
     "name": "stdout",
     "output_type": "stream",
     "text": [
      "['alpha', 'beta', 'gamma', 'delta', 'epsilon']\n"
     ]
    }
   ],
   "source": [
    "string_list = [\"alpha\", \"beta\", \"gamma\", \"delta\"]\n",
    "string_list.append(\"epsilon\")\n",
    "print(string_list)"
   ]
  },
  {
   "cell_type": "markdown",
   "metadata": {},
   "source": [
    "### Create a sublist with the first three elements of this list\n"
   ]
  },
  {
   "cell_type": "code",
   "execution_count": 6,
   "metadata": {},
   "outputs": [
    {
     "name": "stdout",
     "output_type": "stream",
     "text": [
      "['alpha', 'beta', 'gamma']\n"
     ]
    }
   ],
   "source": [
    "print(string_list[:3])"
   ]
  },
  {
   "cell_type": "markdown",
   "metadata": {},
   "source": [
    "### Write a Python program to construct the following pattern using for loops"
   ]
  },
  {
   "cell_type": "code",
   "execution_count": null,
   "metadata": {},
   "outputs": [],
   "source": [
    "* \n",
    "* * \n",
    "* * * \n",
    "* * * * \n",
    "* * * * * \n",
    "* * * * \n",
    "* * * \n",
    "* * \n",
    "*"
   ]
  },
  {
   "cell_type": "code",
   "execution_count": 14,
   "metadata": {},
   "outputs": [
    {
     "name": "stdout",
     "output_type": "stream",
     "text": [
      "\n",
      "* \n",
      "* * \n",
      "* * * \n",
      "* * * * \n",
      "* * * * * \n",
      "* * * * \n",
      "* * * \n",
      "* * \n",
      "* \n"
     ]
    }
   ],
   "source": [
    "j = 2\n",
    "for i in range(10):\n",
    "    if i < 6:\n",
    "        print(\"* \" * i)\n",
    "    else:\n",
    "        print(\"* \" * (i - j))\n",
    "        j += 2"
   ]
  },
  {
   "cell_type": "markdown",
   "metadata": {},
   "source": [
    "### Write a function that takes 3 input parameters and returns the product of these values"
   ]
  },
  {
   "cell_type": "code",
   "execution_count": 16,
   "metadata": {},
   "outputs": [
    {
     "name": "stdout",
     "output_type": "stream",
     "text": [
      "60\n"
     ]
    }
   ],
   "source": [
    "def product_inputs(a, b, c):\n",
    "    return a * b * c\n",
    "print(product_inputs(2, 5, 6))"
   ]
  },
  {
   "cell_type": "markdown",
   "metadata": {},
   "source": [
    "### Write a Python function that takes an int as a parameter and checks if the number is prime or not."
   ]
  },
  {
   "cell_type": "code",
   "execution_count": 31,
   "metadata": {},
   "outputs": [
    {
     "name": "stdout",
     "output_type": "stream",
     "text": [
      "True\n"
     ]
    }
   ],
   "source": [
    "def is_prime_number(num: int) -> bool:\n",
    "    \"\"\"Checks if the given number is a prime number\n",
    "    Return: True id number is prime otherwise false\n",
    "    \"\"\"\n",
    "    for i in range(2, ((num // 2) + 1)):\n",
    "        if num % i == 0:\n",
    "            return False\n",
    "    return True\n",
    "print(is_prime_number(23))"
   ]
  },
  {
   "cell_type": "markdown",
   "metadata": {},
   "source": [
    "### Use your function to create a list that contains all primes from 2 to 100"
   ]
  },
  {
   "cell_type": "code",
   "execution_count": 32,
   "metadata": {},
   "outputs": [
    {
     "name": "stdout",
     "output_type": "stream",
     "text": [
      "[2, 3, 5, 7]\n"
     ]
    }
   ],
   "source": [
    "def create_prime_numbers(start: int, stop: int) -> list:\n",
    "    \"\"\"Creates a list of prime numbers in the range of start to stop\"\"\"\n",
    "    return([i for i in range(start, stop) if is_prime_number(i)])\n",
    "print(create_prime_numbers(2, 10))"
   ]
  },
  {
   "cell_type": "markdown",
   "metadata": {},
   "source": [
    "### Write a function that simulates dice rolls (6-sided dices)\n",
    "- Write a function that has the number of dice rolls as the input parameter\n",
    "- The output is a map with the counts how often each result of a roll (1-6) occurred\n",
    "- You can use the randomint() function from the random package"
   ]
  },
  {
   "cell_type": "code",
   "execution_count": 36,
   "metadata": {},
   "outputs": [
    {
     "name": "stdout",
     "output_type": "stream",
     "text": [
      "{'3': 1, '5': 1, '1': 2, '4': 1, '6': 1}\n"
     ]
    }
   ],
   "source": [
    "# load the random package\n",
    "import random\n",
    "\n",
    "def dice_simulator(num_rolls: int) -> dict:\n",
    "    the_map = {}\n",
    "    for _ in range(num_rolls):\n",
    "        num = str(random.randint(1, 6))\n",
    "        if num not in the_map.keys():\n",
    "            the_map[num] = 1\n",
    "        else:\n",
    "            the_map[num] += 1\n",
    "    return the_map\n",
    "print(dice_simulator(6))"
   ]
  },
  {
   "cell_type": "markdown",
   "metadata": {},
   "source": [
    "### Combine two dictionaries by adding values for common keys.\n",
    "d1 = {'a': 100, 'b': 200, 'c':300}\n",
    "\n",
    "d2 = {'a': 300, 'b': 200, 'd':400}\n",
    "\n",
    "Sample output: {'a': 400, 'b': 400, 'd': 400, 'c': 300}"
   ]
  },
  {
   "cell_type": "code",
   "execution_count": null,
   "metadata": {},
   "outputs": [],
   "source": [
    "def combine_dicts(dict1: dict, dict2: dict) -> dict:\n",
    "    \"\"\"adds up values for keys that are similar in the two dictionaries\"\"\"\n",
    "    final = {}\n",
    "    for key1, key2 in zip(dict1.keys(), dict2.keys()):\n",
    "        if key1 == key2:\n",
    "            final[key1] = dict1[key1] + dict2[key2]\n",
    "        else:\n",
    "            final[key1] = dict1[key1]\n",
    "            final[key2] = dict2[key2]\n",
    "    return final"
   ]
  },
  {
   "cell_type": "markdown",
   "metadata": {},
   "source": [
    "### Create a list of lists. Then, write a list comprehension that creates a list with the lengths of each (sub)list in the primary list"
   ]
  },
  {
   "cell_type": "code",
   "execution_count": 37,
   "metadata": {},
   "outputs": [
    {
     "name": "stdout",
     "output_type": "stream",
     "text": [
      "[3, 1, 5]\n"
     ]
    }
   ],
   "source": [
    "def create_list_of_list_lengths(value: list[list]) -> list:\n",
    "    \"\"\"Create a list of lengths of lists within a given list\"\"\"\n",
    "    return [len(i) for i in value]\n",
    "print(create_list_of_list_lengths([[2, 3, 5], [1], [3, 5, 8, 9, 13]]))"
   ]
  },
  {
   "cell_type": "markdown",
   "metadata": {},
   "source": [
    "### Exceptions\n",
    "\n",
    "Write your own function *my_division* that gets two variables a and b and returns a divided by b. Catch the ZeroDivisionError that occurs if b equals 0 and return 1 in this case.\n",
    "\n",
    "How could the same behavior be achieved without catching an exception?"
   ]
  },
  {
   "cell_type": "code",
   "execution_count": 39,
   "metadata": {},
   "outputs": [
    {
     "data": {
      "text/plain": [
       "1"
      ]
     },
     "execution_count": 39,
     "metadata": {},
     "output_type": "execute_result"
    }
   ],
   "source": [
    "def my_division(a, b):\n",
    "    \"\"\"Divides a by b and catches a Zero division error if it occurs\"\"\"\n",
    "    try:\n",
    "        return a / b\n",
    "    except ZeroDivisionError as err:\n",
    "        return 1\n",
    "my_division(4, 0)"
   ]
  },
  {
   "cell_type": "markdown",
   "metadata": {},
   "source": [
    "### File handling\n",
    "\n",
    "Write a function that gets a letter and the path to a (text-)file on your harddrive as input parameters and computes a list as its output. The list should contain one number for each line. The i-th line shows, how often the given letter occurs in line number i in the text file. Test your function on \"ftest.txt\", which was provided in this exercise!"
   ]
  },
  {
   "cell_type": "code",
   "execution_count": null,
   "metadata": {},
   "outputs": [],
   "source": []
  },
  {
   "cell_type": "markdown",
   "metadata": {},
   "source": [
    "### Change please!\n",
    "In our currency, we have coins with certain values, e.g., (200,100,50,20,10,5,2,1) cents. Write a function that computes the different options to pay a certain amount X with the given set of coins."
   ]
  },
  {
   "cell_type": "raw",
   "metadata": {},
   "source": [
    "Example:\n",
    "pay_options (10, [200,100,50,20,10,5,2,1])\n",
    "[[10],\n",
    " [5, 5],\n",
    " [5, 2, 2, 1],\n",
    " [5, 2, 1, 1, 1],\n",
    " [5, 1, 1, 1, 1, 1],\n",
    " [2, 2, 2, 2, 2],\n",
    " [2, 2, 2, 2, 1, 1],\n",
    " [2, 2, 2, 1, 1, 1, 1],\n",
    " [2, 2, 1, 1, 1, 1, 1, 1],\n",
    " [2, 1, 1, 1, 1, 1, 1, 1, 1],\n",
    " [1, 1, 1, 1, 1, 1, 1, 1, 1, 1]]"
   ]
  },
  {
   "cell_type": "code",
   "execution_count": 240,
   "metadata": {},
   "outputs": [
    {
     "name": "stdout",
     "output_type": "stream",
     "text": [
      "start 10 and index is 0\n",
      "first coin 10\n",
      "before [10]\n",
      "after [10]\n",
      "before [10]\n",
      "after [10]\n",
      "before [10]\n",
      "added coin +++++++ 2\n",
      "after [10, 2]\n",
      "before [10, 2]\n",
      "after [10, 2]\n",
      "before [10, 2]\n",
      "added coin +++++++ 1\n",
      "after [10, 2, 1]\n",
      ">>>>>>>>>>>>>>>>>>final [10, 2, 1]\n",
      "[]\n",
      "new coin 5\n",
      ">>>>>>>>>>>>>>>>>> new list of coins [10, 2]\n",
      "new coin 5\n",
      "first coin 10\n",
      "before [10]\n",
      "after [10]\n",
      "before [10]\n",
      "after [10]\n",
      "before [10]\n",
      "added coin +++++++ 2\n",
      "after [10, 2]\n",
      "before [10, 2]\n",
      "after [10, 2]\n",
      "before [10, 2]\n",
      "added coin +++++++ 1\n",
      "after [10, 2, 1]\n",
      "new coin 2\n",
      ">>>>>>>>>>>>>>>>>> new list of coins [10, 2]\n",
      "new coin 2\n",
      "first coin 10\n",
      "before [10]\n",
      "added coin +++++++ 2\n",
      "after [10, 2]\n",
      "before [10, 2]\n",
      "after [10, 2]\n",
      "before [10, 2]\n",
      "after [10, 2]\n",
      "before [10, 2]\n",
      "after [10, 2]\n",
      "before [10, 2]\n",
      "added coin +++++++ 1\n",
      "after [10, 2, 1]\n",
      "new coin 1\n",
      ">>>>>>>>>>>>>>>>>> new list of coins [10, 2]\n",
      "new coin 1\n",
      "first coin 10\n",
      "before [10]\n",
      "added coin +++++++ 1\n",
      "after [10, 1]\n",
      "before [10, 1]\n",
      "added coin +++++++ 1\n",
      "after [10, 1, 1]\n",
      "before [10, 1, 1]\n",
      "added coin +++++++ 1\n",
      "after [10, 1, 1, 1]\n",
      ">>>>>>>>>>>>>>>>>>final [10, 1, 1, 1]\n",
      "[]\n",
      "new coin 1\n",
      ">>>>>>>>>>>>>>>>>> new list of coins [10]\n",
      "start 5 and index is 1\n",
      "first coin 5\n",
      "before [5]\n",
      "added coin +++++++ 5\n",
      "after [5, 5]\n",
      "before [5, 5]\n",
      "after [5, 5]\n",
      "before [5, 5]\n",
      "added coin +++++++ 2\n",
      "after [5, 5, 2]\n",
      "before [5, 5, 2]\n",
      "after [5, 5, 2]\n",
      "before [5, 5, 2]\n",
      "added coin +++++++ 1\n",
      "after [5, 5, 2, 1]\n",
      ">>>>>>>>>>>>>>>>>>final [5, 5, 2, 1]\n",
      "[]\n",
      "new coin 2\n",
      ">>>>>>>>>>>>>>>>>> new list of coins [5, 5, 2]\n",
      "new coin 2\n",
      "first coin 5\n",
      "before [5, 5]\n",
      "added coin +++++++ 2\n",
      "after [5, 5, 2]\n",
      "before [5, 5, 2]\n",
      "after [5, 5, 2]\n",
      "before [5, 5, 2]\n",
      "after [5, 5, 2]\n",
      "before [5, 5, 2]\n",
      "added coin +++++++ 1\n",
      "after [5, 5, 2, 1]\n",
      "new coin 1\n",
      ">>>>>>>>>>>>>>>>>> new list of coins [5, 5, 2]\n",
      "new coin 1\n",
      "first coin 5\n",
      "before [5, 5]\n",
      "added coin +++++++ 1\n",
      "after [5, 5, 1]\n",
      "before [5, 5, 1]\n",
      "added coin +++++++ 1\n",
      "after [5, 5, 1, 1]\n",
      "before [5, 5, 1, 1]\n",
      "added coin +++++++ 1\n",
      "after [5, 5, 1, 1, 1]\n",
      ">>>>>>>>>>>>>>>>>>final [5, 5, 1, 1, 1]\n",
      "[]\n",
      "new coin 1\n",
      ">>>>>>>>>>>>>>>>>> new list of coins [5, 5]\n",
      "new coin 1\n",
      "first coin 5\n",
      "before [5]\n",
      "added coin +++++++ 1\n",
      "after [5, 1]\n",
      "before [5, 1]\n",
      "added coin +++++++ 1\n",
      "after [5, 1, 1]\n",
      "before [5, 1, 1]\n",
      "added coin +++++++ 1\n",
      "after [5, 1, 1, 1]\n",
      "before [5, 1, 1, 1]\n",
      "added coin +++++++ 1\n",
      "after [5, 1, 1, 1, 1]\n",
      "before [5, 1, 1, 1, 1]\n",
      "added coin +++++++ 1\n",
      "after [5, 1, 1, 1, 1, 1]\n",
      "before [5, 1, 1, 1, 1, 1]\n",
      "added coin +++++++ 1\n",
      "after [5, 1, 1, 1, 1, 1, 1]\n",
      "before [5, 1, 1, 1, 1, 1, 1]\n",
      "added coin +++++++ 1\n",
      "after [5, 1, 1, 1, 1, 1, 1, 1]\n",
      "before [5, 1, 1, 1, 1, 1, 1, 1]\n",
      "added coin +++++++ 1\n",
      "after [5, 1, 1, 1, 1, 1, 1, 1, 1]\n",
      ">>>>>>>>>>>>>>>>>>final [5, 1, 1, 1, 1, 1, 1, 1, 1]\n",
      "[]\n",
      "new coin 1\n",
      ">>>>>>>>>>>>>>>>>> new list of coins [5]\n",
      "start 2 and index is 2\n",
      "first coin 2\n",
      "before [2]\n",
      "added coin +++++++ 2\n",
      "after [2, 2]\n",
      "before [2, 2]\n",
      "added coin +++++++ 2\n",
      "after [2, 2, 2]\n",
      "before [2, 2, 2]\n",
      "added coin +++++++ 2\n",
      "after [2, 2, 2, 2]\n",
      "before [2, 2, 2, 2]\n",
      "added coin +++++++ 2\n",
      "after [2, 2, 2, 2, 2]\n",
      "before [2, 2, 2, 2, 2]\n",
      "added coin +++++++ 2\n",
      "after [2, 2, 2, 2, 2, 2]\n",
      "before [2, 2, 2, 2, 2, 2]\n",
      "after [2, 2, 2, 2, 2, 2]\n",
      "before [2, 2, 2, 2, 2, 2]\n",
      "added coin +++++++ 1\n",
      "after [2, 2, 2, 2, 2, 2, 1]\n",
      ">>>>>>>>>>>>>>>>>>final [2, 2, 2, 2, 2, 2, 1]\n",
      "[]\n",
      "new coin 1\n",
      ">>>>>>>>>>>>>>>>>> new list of coins [2, 2, 2, 2, 2, 2]\n",
      "new coin 1\n",
      "first coin 2\n",
      "before [2, 2, 2, 2, 2]\n",
      "added coin +++++++ 1\n",
      "after [2, 2, 2, 2, 2, 1]\n",
      "before [2, 2, 2, 2, 2, 1]\n",
      "added coin +++++++ 1\n",
      "after [2, 2, 2, 2, 2, 1, 1]\n",
      "before [2, 2, 2, 2, 2, 1, 1]\n",
      "added coin +++++++ 1\n",
      "after [2, 2, 2, 2, 2, 1, 1, 1]\n",
      ">>>>>>>>>>>>>>>>>>final [2, 2, 2, 2, 2, 1, 1, 1]\n",
      "[]\n",
      "new coin 1\n",
      ">>>>>>>>>>>>>>>>>> new list of coins [2, 2, 2, 2, 2]\n",
      "new coin 1\n",
      "first coin 2\n",
      "before [2, 2, 2, 2]\n",
      "added coin +++++++ 1\n",
      "after [2, 2, 2, 2, 1]\n",
      "before [2, 2, 2, 2, 1]\n",
      "added coin +++++++ 1\n",
      "after [2, 2, 2, 2, 1, 1]\n",
      "before [2, 2, 2, 2, 1, 1]\n",
      "added coin +++++++ 1\n",
      "after [2, 2, 2, 2, 1, 1, 1]\n",
      "before [2, 2, 2, 2, 1, 1, 1]\n",
      "added coin +++++++ 1\n",
      "after [2, 2, 2, 2, 1, 1, 1, 1]\n",
      "before [2, 2, 2, 2, 1, 1, 1, 1]\n",
      "added coin +++++++ 1\n",
      "after [2, 2, 2, 2, 1, 1, 1, 1, 1]\n",
      ">>>>>>>>>>>>>>>>>>final [2, 2, 2, 2, 1, 1, 1, 1, 1]\n",
      "[]\n",
      "new coin 1\n",
      ">>>>>>>>>>>>>>>>>> new list of coins [2, 2, 2, 2]\n",
      "new coin 1\n",
      "first coin 2\n",
      "before [2, 2, 2]\n",
      "added coin +++++++ 1\n",
      "after [2, 2, 2, 1]\n",
      "before [2, 2, 2, 1]\n",
      "added coin +++++++ 1\n",
      "after [2, 2, 2, 1, 1]\n",
      "before [2, 2, 2, 1, 1]\n",
      "added coin +++++++ 1\n",
      "after [2, 2, 2, 1, 1, 1]\n",
      "before [2, 2, 2, 1, 1, 1]\n",
      "added coin +++++++ 1\n",
      "after [2, 2, 2, 1, 1, 1, 1]\n",
      "before [2, 2, 2, 1, 1, 1, 1]\n",
      "added coin +++++++ 1\n",
      "after [2, 2, 2, 1, 1, 1, 1, 1]\n",
      "before [2, 2, 2, 1, 1, 1, 1, 1]\n",
      "added coin +++++++ 1\n",
      "after [2, 2, 2, 1, 1, 1, 1, 1, 1]\n",
      "before [2, 2, 2, 1, 1, 1, 1, 1, 1]\n",
      "added coin +++++++ 1\n",
      "after [2, 2, 2, 1, 1, 1, 1, 1, 1, 1]\n",
      ">>>>>>>>>>>>>>>>>>final [2, 2, 2, 1, 1, 1, 1, 1, 1, 1]\n",
      "[]\n",
      "new coin 1\n",
      ">>>>>>>>>>>>>>>>>> new list of coins [2, 2, 2]\n",
      "new coin 1\n",
      "first coin 2\n",
      "before [2, 2]\n",
      "added coin +++++++ 1\n",
      "after [2, 2, 1]\n",
      "before [2, 2, 1]\n",
      "added coin +++++++ 1\n",
      "after [2, 2, 1, 1]\n",
      "before [2, 2, 1, 1]\n",
      "added coin +++++++ 1\n",
      "after [2, 2, 1, 1, 1]\n",
      "before [2, 2, 1, 1, 1]\n",
      "added coin +++++++ 1\n",
      "after [2, 2, 1, 1, 1, 1]\n",
      "before [2, 2, 1, 1, 1, 1]\n",
      "added coin +++++++ 1\n",
      "after [2, 2, 1, 1, 1, 1, 1]\n",
      "before [2, 2, 1, 1, 1, 1, 1]\n",
      "added coin +++++++ 1\n",
      "after [2, 2, 1, 1, 1, 1, 1, 1]\n",
      "before [2, 2, 1, 1, 1, 1, 1, 1]\n",
      "added coin +++++++ 1\n",
      "after [2, 2, 1, 1, 1, 1, 1, 1, 1]\n",
      "before [2, 2, 1, 1, 1, 1, 1, 1, 1]\n",
      "added coin +++++++ 1\n",
      "after [2, 2, 1, 1, 1, 1, 1, 1, 1, 1]\n",
      "before [2, 2, 1, 1, 1, 1, 1, 1, 1, 1]\n",
      "added coin +++++++ 1\n",
      "after [2, 2, 1, 1, 1, 1, 1, 1, 1, 1, 1]\n",
      ">>>>>>>>>>>>>>>>>>final [2, 2, 1, 1, 1, 1, 1, 1, 1, 1, 1]\n",
      "[]\n",
      "new coin 1\n",
      ">>>>>>>>>>>>>>>>>> new list of coins [2, 2]\n",
      "new coin 1\n",
      "first coin 2\n",
      "before [2]\n",
      "added coin +++++++ 1\n",
      "after [2, 1]\n",
      "before [2, 1]\n",
      "added coin +++++++ 1\n",
      "after [2, 1, 1]\n",
      "before [2, 1, 1]\n",
      "added coin +++++++ 1\n",
      "after [2, 1, 1, 1]\n",
      "before [2, 1, 1, 1]\n",
      "added coin +++++++ 1\n",
      "after [2, 1, 1, 1, 1]\n",
      "before [2, 1, 1, 1, 1]\n",
      "added coin +++++++ 1\n",
      "after [2, 1, 1, 1, 1, 1]\n",
      "before [2, 1, 1, 1, 1, 1]\n",
      "added coin +++++++ 1\n",
      "after [2, 1, 1, 1, 1, 1, 1]\n",
      "before [2, 1, 1, 1, 1, 1, 1]\n",
      "added coin +++++++ 1\n",
      "after [2, 1, 1, 1, 1, 1, 1, 1]\n",
      "before [2, 1, 1, 1, 1, 1, 1, 1]\n",
      "added coin +++++++ 1\n",
      "after [2, 1, 1, 1, 1, 1, 1, 1, 1]\n",
      "before [2, 1, 1, 1, 1, 1, 1, 1, 1]\n",
      "added coin +++++++ 1\n",
      "after [2, 1, 1, 1, 1, 1, 1, 1, 1, 1]\n",
      "before [2, 1, 1, 1, 1, 1, 1, 1, 1, 1]\n",
      "added coin +++++++ 1\n",
      "after [2, 1, 1, 1, 1, 1, 1, 1, 1, 1, 1]\n",
      "before [2, 1, 1, 1, 1, 1, 1, 1, 1, 1, 1]\n",
      "added coin +++++++ 1\n",
      "after [2, 1, 1, 1, 1, 1, 1, 1, 1, 1, 1, 1]\n",
      ">>>>>>>>>>>>>>>>>>final [2, 1, 1, 1, 1, 1, 1, 1, 1, 1, 1, 1]\n",
      "[]\n",
      "new coin 1\n",
      ">>>>>>>>>>>>>>>>>> new list of coins [2]\n",
      "start 1 and index is 3\n",
      "first coin 1\n",
      "before [1]\n",
      "added coin +++++++ 1\n",
      "after [1, 1]\n",
      "before [1, 1]\n",
      "added coin +++++++ 1\n",
      "after [1, 1, 1]\n",
      "before [1, 1, 1]\n",
      "added coin +++++++ 1\n",
      "after [1, 1, 1, 1]\n",
      "before [1, 1, 1, 1]\n",
      "added coin +++++++ 1\n",
      "after [1, 1, 1, 1, 1]\n",
      "before [1, 1, 1, 1, 1]\n",
      "added coin +++++++ 1\n",
      "after [1, 1, 1, 1, 1, 1]\n",
      "before [1, 1, 1, 1, 1, 1]\n",
      "added coin +++++++ 1\n",
      "after [1, 1, 1, 1, 1, 1, 1]\n",
      "before [1, 1, 1, 1, 1, 1, 1]\n",
      "added coin +++++++ 1\n",
      "after [1, 1, 1, 1, 1, 1, 1, 1]\n",
      "before [1, 1, 1, 1, 1, 1, 1, 1]\n",
      "added coin +++++++ 1\n",
      "after [1, 1, 1, 1, 1, 1, 1, 1, 1]\n",
      "before [1, 1, 1, 1, 1, 1, 1, 1, 1]\n",
      "added coin +++++++ 1\n",
      "after [1, 1, 1, 1, 1, 1, 1, 1, 1, 1]\n",
      "before [1, 1, 1, 1, 1, 1, 1, 1, 1, 1]\n",
      "added coin +++++++ 1\n",
      "after [1, 1, 1, 1, 1, 1, 1, 1, 1, 1, 1]\n",
      "before [1, 1, 1, 1, 1, 1, 1, 1, 1, 1, 1]\n",
      "added coin +++++++ 1\n",
      "after [1, 1, 1, 1, 1, 1, 1, 1, 1, 1, 1, 1]\n",
      "before [1, 1, 1, 1, 1, 1, 1, 1, 1, 1, 1, 1]\n",
      "added coin +++++++ 1\n",
      "after [1, 1, 1, 1, 1, 1, 1, 1, 1, 1, 1, 1, 1]\n",
      ">>>>>>>>>>>>>>>>>>final [1, 1, 1, 1, 1, 1, 1, 1, 1, 1, 1, 1, 1]\n",
      "[]\n",
      "new coin 1\n",
      ">>>>>>>>>>>>>>>>>> new list of coins []\n"
     ]
    },
    {
     "data": {
      "text/plain": [
       "[[10, 2, 1],\n",
       " [10, 1, 1, 1],\n",
       " [5, 5, 2, 1],\n",
       " [5, 5, 1, 1, 1],\n",
       " [5, 1, 1, 1, 1, 1, 1, 1, 1],\n",
       " [2, 2, 2, 2, 2, 2, 1],\n",
       " [2, 2, 2, 2, 2, 1, 1, 1],\n",
       " [2, 2, 2, 2, 1, 1, 1, 1, 1],\n",
       " [2, 2, 2, 1, 1, 1, 1, 1, 1, 1],\n",
       " [2, 2, 1, 1, 1, 1, 1, 1, 1, 1, 1],\n",
       " [2, 1, 1, 1, 1, 1, 1, 1, 1, 1, 1, 1],\n",
       " [1, 1, 1, 1, 1, 1, 1, 1, 1, 1, 1, 1, 1]]"
      ]
     },
     "execution_count": 240,
     "metadata": {},
     "output_type": "execute_result"
    }
   ],
   "source": [
    "def pay_options(x: int, coins: list[int]) -> list:\n",
    "    \"\"\"Return a list of payment options that statisfy the amount x\"\"\"\n",
    "    options = []\n",
    "    for index, coin in enumerate(coins):\n",
    "        if coin <= x:\n",
    "            new_coins = coins[index:]\n",
    "            current_option = []\n",
    "            previous_option = []\n",
    "            for i, c in enumerate(new_coins):\n",
    "                print(f\"start {c} and index is {i}\")\n",
    "                incr = 1\n",
    "                new_coin = c\n",
    "                current_option.append(c)\n",
    "                while True:\n",
    "                    print(f\"first coin {c}\")\n",
    "                    repeat = True\n",
    "                    temp_incr = 1\n",
    "                    while repeat:\n",
    "                        print(f\"before {current_option}\")\n",
    "                        if sum(current_option) == x:\n",
    "                            repeat = False\n",
    "                        elif (sum(current_option) + new_coin) > x:\n",
    "                            if (temp_incr + i) < len(new_coins):\n",
    "                                new_coin = new_coins[i + temp_incr]\n",
    "                                temp_incr += 1\n",
    "                            else:\n",
    "                                repeat = False\n",
    "                        elif (sum(current_option) + new_coin) == x:\n",
    "                            print(f\"added coin +++++++ {new_coin}\")\n",
    "                            current_option.append(new_coin)\n",
    "                            repeat = False\n",
    "                        elif (sum(current_option) + new_coin) < x:\n",
    "                            print(f\"added coin +++++++ {new_coin}\")\n",
    "                            current_option.append(new_coin)\n",
    "                        print(f\"after {current_option}\")\n",
    "                    if sum(current_option) == x and current_option != previous_option:\n",
    "                        print(f\">>>>>>>>>>>>>>>>>>final {current_option}\")\n",
    "                        options.append(current_option)\n",
    "                        previous_option = current_option\n",
    "                        current_option = []\n",
    "                        print(current_option)\n",
    "                    if len(previous_option) > 1:\n",
    "                        if (incr + i) < len(new_coins):\n",
    "                            new_coin = new_coins[i + incr]\n",
    "                            incr += 1\n",
    "                        else:\n",
    "                            new_coin = new_coins[-1]\n",
    "                        current_option = [i for i in previous_option if i != new_coins[-1]]\n",
    "                        print(f\"new coin {new_coin}\")\n",
    "                        print(f\">>>>>>>>>>>>>>>>>> new list of coins {current_option}\")\n",
    "                        if len(current_option) > 1:\n",
    "                            del current_option[-1]\n",
    "                        else:\n",
    "                            current_option = []\n",
    "                            break\n",
    "                        print(f\"new coin {new_coin}\")\n",
    "                    else:\n",
    "                        break\n",
    "            break\n",
    "    return options\n",
    "pay_options(13, [200,100,50,20,10,5,2,1])"
   ]
  },
  {
   "cell_type": "markdown",
   "metadata": {},
   "source": [
    "## Numpy\n",
    "\n",
    "In this last set of tasks, you will have to work with numpy, the the fundamental package for scientific computing with Python.\n",
    "Make sure to execute the cell below to import the package, we will usually use the abbreviation np for numpy to obtain shorter code."
   ]
  },
  {
   "cell_type": "code",
   "execution_count": null,
   "metadata": {},
   "outputs": [],
   "source": [
    "import numpy as np"
   ]
  },
  {
   "cell_type": "markdown",
   "metadata": {},
   "source": [
    "### Create a numpy array with 20 rows and 10 columns, where all values are set to zero"
   ]
  },
  {
   "cell_type": "code",
   "execution_count": null,
   "metadata": {},
   "outputs": [],
   "source": []
  },
  {
   "cell_type": "markdown",
   "metadata": {},
   "source": [
    "### Create an array with the same shape containing all natural numbers 0-199"
   ]
  },
  {
   "cell_type": "code",
   "execution_count": null,
   "metadata": {},
   "outputs": [],
   "source": []
  },
  {
   "cell_type": "markdown",
   "metadata": {},
   "source": [
    "### Create a 4-dimensional array with exactly 16 elements and set all values to a random integer smaller than 5"
   ]
  },
  {
   "cell_type": "code",
   "execution_count": null,
   "metadata": {},
   "outputs": [],
   "source": []
  },
  {
   "cell_type": "markdown",
   "metadata": {},
   "source": [
    "### What is the mean of all values contained in this array?"
   ]
  },
  {
   "cell_type": "code",
   "execution_count": null,
   "metadata": {},
   "outputs": [],
   "source": []
  },
  {
   "cell_type": "markdown",
   "metadata": {},
   "source": [
    "### Select a sub-array containing exactly two elements of that array!"
   ]
  },
  {
   "cell_type": "code",
   "execution_count": null,
   "metadata": {},
   "outputs": [],
   "source": []
  },
  {
   "cell_type": "markdown",
   "metadata": {},
   "source": [
    "### Given a numpy array, return a new numpy array that contains only the elements that are greater than 100"
   ]
  },
  {
   "cell_type": "code",
   "execution_count": null,
   "metadata": {},
   "outputs": [],
   "source": []
  }
 ],
 "metadata": {
  "kernelspec": {
   "display_name": "base",
   "language": "python",
   "name": "python3"
  },
  "language_info": {
   "codemirror_mode": {
    "name": "ipython",
    "version": 3
   },
   "file_extension": ".py",
   "mimetype": "text/x-python",
   "name": "python",
   "nbconvert_exporter": "python",
   "pygments_lexer": "ipython3",
   "version": "3.12.2"
  }
 },
 "nbformat": 4,
 "nbformat_minor": 2
}
