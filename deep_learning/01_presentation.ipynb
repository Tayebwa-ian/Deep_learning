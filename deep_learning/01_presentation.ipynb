{
 "cells": [
  {
   "cell_type": "markdown",
   "metadata": {},
   "source": [
    "## FizzBuzz\n",
    "\n",
    "FizzBuzz is a simple programming task: for every integer from 1 to 100, print \"FizzBuzz\" if i is divisible by 3 and 5, \"Fizz\" if i is divisible by 3, and \"Buzz\" if i is divisible by 5. Otherwise, print the number."
   ]
  },
  {
   "cell_type": "code",
   "execution_count": 2,
   "metadata": {},
   "outputs": [
    {
     "name": "stdout",
     "output_type": "stream",
     "text": [
      "1\n",
      "2\n",
      "Fizz\n",
      "4\n",
      "Buzz\n",
      "Fizz\n",
      "7\n",
      "8\n",
      "Fizz\n",
      "Buzz\n",
      "11\n",
      "Fizz\n",
      "13\n",
      "14\n",
      "FizzBuzz\n",
      "16\n",
      "17\n",
      "Fizz\n",
      "19\n",
      "Buzz\n",
      "Fizz\n",
      "22\n",
      "23\n",
      "Fizz\n",
      "Buzz\n",
      "26\n",
      "Fizz\n",
      "28\n",
      "29\n",
      "FizzBuzz\n"
     ]
    }
   ],
   "source": [
    "n_numbers = 30\n",
    "\n",
    "for num in range(1, n_numbers+1):\n",
    "    if num % 3 == 0 and num % 5 == 0:\n",
    "        print(\"FizzBuzz\")\n",
    "    elif num % 3 == 0:\n",
    "        print(\"Fizz\")\n",
    "    elif num % 5 == 0:\n",
    "        print(\"Buzz\")\n",
    "    else:\n",
    "        print(num)"
   ]
  },
  {
   "cell_type": "code",
   "execution_count": 1,
   "metadata": {},
   "outputs": [
    {
     "name": "stdout",
     "output_type": "stream",
     "text": [
      "4\n"
     ]
    }
   ],
   "source": [
    "x = 4\n",
    "print(x)"
   ]
  },
  {
   "cell_type": "code",
   "execution_count": 5,
   "metadata": {},
   "outputs": [
    {
     "name": "stdout",
     "output_type": "stream",
     "text": [
      "8\n"
     ]
    }
   ],
   "source": [
    "x = x+2\n",
    "print(x)"
   ]
  },
  {
   "cell_type": "markdown",
   "metadata": {},
   "source": [
    "## Vectors\n",
    "\n",
    "Neural networks do lots of (simple) linear algebra. As a start, we implement the dot product between two \"vectors\" (here simply lists)."
   ]
  },
  {
   "cell_type": "code",
   "execution_count": 7,
   "metadata": {},
   "outputs": [
    {
     "name": "stdout",
     "output_type": "stream",
     "text": [
      "0\n",
      "0\n"
     ]
    }
   ],
   "source": [
    "vec1 = [1, 0, 0]\n",
    "vec2 = [0, 1, 0]\n",
    "\n",
    "\n",
    "def dotproduct(a, b):\n",
    "    result = 0\n",
    "    for i in range(len(a)):\n",
    "        result += a[i] * b[i]\n",
    "    return result\n",
    "\n",
    "\n",
    "def dotproduct1(a, b):\n",
    "    return sum(\n",
    "        [ai * bi for ai, bi in zip(a, b)]\n",
    "    )\n",
    "\n",
    "\n",
    "print(dotproduct(vec1, vec2))\n",
    "print(dotproduct1(vec1, vec2))\n"
   ]
  },
  {
   "cell_type": "code",
   "execution_count": 2,
   "metadata": {},
   "outputs": [
    {
     "data": {
      "text/plain": [
       "[1, 2]"
      ]
     },
     "execution_count": 2,
     "metadata": {},
     "output_type": "execute_result"
    }
   ],
   "source": [
    "vec1 = [1, 0, 0, 2]\n",
    "[elem for elem in vec1 if elem != 0]"
   ]
  },
  {
   "cell_type": "markdown",
   "metadata": {},
   "source": [
    "Now, we implement vector addition and add an option to normalize the output to unit length."
   ]
  },
  {
   "cell_type": "code",
   "execution_count": 10,
   "metadata": {},
   "outputs": [
    {
     "name": "stdout",
     "output_type": "stream",
     "text": [
      "[0.2182178902359924, 0.8728715609439696, 0.4364357804719848]\n",
      "[1, 1, 0]\n"
     ]
    }
   ],
   "source": [
    "import math\n",
    "from typing import List\n",
    "\n",
    "\n",
    "def add_vecs(a: list[int], b):\n",
    "    return [ai + bi for ai, bi in zip(a, b)]\n",
    "\n",
    "\n",
    "def add_vecs_normalize(\n",
    "    a: list[int], b: List[int], normalize: bool = True\n",
    ") -> List[float]:\n",
    "    result = add_vecs(a, b)\n",
    "    if normalize:\n",
    "        norm_factor = 1 / math.sqrt(sum([ri * ri for ri in result]))\n",
    "    else:\n",
    "        norm_factor = 1\n",
    "    return [norm_factor * ri for ri in result]\n",
    "\n",
    "\n",
    "print(add_vecs_normalize([0.5, 1, 1], vec2, normalize=True))\n",
    "print(add_vecs_normalize(vec1, vec2, normalize=False))\n"
   ]
  },
  {
   "cell_type": "markdown",
   "metadata": {},
   "source": [
    "Type hints can help tools to check our code. However, they are not checked during runtime."
   ]
  },
  {
   "cell_type": "code",
   "execution_count": null,
   "metadata": {},
   "outputs": [],
   "source": []
  },
  {
   "cell_type": "markdown",
   "metadata": {},
   "source": [
    "## Matrices\n",
    "\n",
    "We implement a class that has functionality to do matrix multiplication and matrix addition."
   ]
  },
  {
   "cell_type": "code",
   "execution_count": null,
   "metadata": {},
   "outputs": [],
   "source": [
    "import copy\n",
    "\n",
    "\n",
    "class Matrix:\n",
    "    def __init__(self, vals) -> None:\n",
    "        self.vals = copy.deepcopy(vals)\n",
    "\n",
    "    # def __repr__(self):\n",
    "    #     return str(self.vals)\n",
    "\n",
    "    def __add__(self, other):\n",
    "        return Matrix([\n",
    "            [aij + bij for aij, bij in zip(ai, bi)]\n",
    "            for ai, bi in zip(self.vals, other.vals)\n",
    "        ])\n",
    "\n",
    "    def __str__(self) -> str:\n",
    "        return \"noString\"\n",
    "\n",
    "class User:\n",
    "    def __init__(self, name, zipcode, telnumber) -> None:\n",
    "        self.name = name\n",
    "        self.zipcode = zipcode\n",
    "        self.telnumber = telnumber\n",
    "\n",
    "    def __repr__(self) -> str:\n",
    "        return self.name + \" (Tel: )\" + str(self.telnumber)\n",
    "\n",
    "\n",
    "\n",
    "vals = [[1, 2], [3, 4]]\n",
    "mat1 = Matrix(vals)\n",
    "print(mat1.vals)\n",
    "# vals[0][0] = 1000\n",
    "print(mat1.vals)\n",
    "\n",
    "mat2 = Matrix(vals)\n",
    "# print(mat1.add(mat2))\n",
    "\n",
    "mat1 + mat2\n",
    "\n",
    "print(mat1)"
   ]
  },
  {
   "cell_type": "markdown",
   "metadata": {},
   "source": [
    "## Numpy\n",
    "\n",
    "Easy to work with n-dimensional arrays."
   ]
  },
  {
   "cell_type": "code",
   "execution_count": 23,
   "metadata": {},
   "outputs": [],
   "source": [
    "import numpy as np"
   ]
  },
  {
   "cell_type": "code",
   "execution_count": null,
   "metadata": {},
   "outputs": [],
   "source": [
    "from IPython import display"
   ]
  },
  {
   "cell_type": "code",
   "execution_count": null,
   "metadata": {},
   "outputs": [],
   "source": [
    "a = np.array(vals)\n",
    "# print(a + 1)\n",
    "display(a * 2)\n",
    "\n",
    "a @ a\n",
    "np.matmul(a, a)\n",
    "\n",
    "print(a)\n",
    "a[a % 2 == 0]\n",
    "a[:, 1]\n"
   ]
  }
 ],
 "metadata": {
  "kernelspec": {
   "display_name": "base",
   "language": "python",
   "name": "python3"
  },
  "language_info": {
   "codemirror_mode": {
    "name": "ipython",
    "version": 3
   },
   "file_extension": ".py",
   "mimetype": "text/x-python",
   "name": "python",
   "nbconvert_exporter": "python",
   "pygments_lexer": "ipython3",
   "version": "3.12.2"
  }
 },
 "nbformat": 4,
 "nbformat_minor": 2
}
